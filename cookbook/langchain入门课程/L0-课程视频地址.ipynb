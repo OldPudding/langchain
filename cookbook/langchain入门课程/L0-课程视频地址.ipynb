{
 "cells": [
  {
   "cell_type": "markdown",
   "source": [
    "# 视频地址\n",
    "- [吴恩达大模型【Langchain-ChatGLM】](https://www.bilibili.com/video/BV1Au4y1M7Lv?p=8&vd_source=e8e5c1f0b08174fc9cbad5de87df9af2)\n",
    "- [用langchain与你的数据对话](https://www.bilibili.com/video/BV148411D7d2/?spm_id_from=333.337.search-card.all.click&vd_source=e8e5c1f0b08174fc9cbad5de87df9af2)\n",
    "- [吴恩达《构建和评估高级的RAG模型应用](https://www.bilibili.com/video/BV1494y1E7H9/?spm_id_from=333.337.search-card.all.click&vd_source=e8e5c1f0b08174fc9cbad5de87df9af2)"
   ],
   "metadata": {
    "collapsed": false
   },
   "id": "917e40d82f9b40ca"
  },
  {
   "cell_type": "markdown",
   "source": [
    "# 训练数据\n",
    "\n",
    "[中文自然语言处理系统的基准测试平台](https://www.cluebenchmarks.com)\n",
    "[THUCTC清华大学文本分类](http://thuctc.thunlp.org/)\n",
    "[中文开放词库 Open Chinese Wordnet：这是一个中文的自然语言处理数据资源，包含了词语的定义、例句等。](http://compling.hss.ntu.edu.sg/cow/)\n",
    "[中文维基百科：可以下载中文维基百科的数据库备份，作为中文语料库使用。](https://dumps.wikimedia.org/zhwiki/latest/)\n",
    "[搜狗新闻语料](http://www.sogou.com/labs/resource/cs.php)\n",
    "[书本下载网站集合](https://zhuanlan.zhihu.com/p/667664680)\n",
    "[中文数据集下载](https://github.com/CLUEbenchmark/CLUEDatasetSearch)\n",
    "[百度中文数据集下载](https://aistudio.baidu.com/datasetoverview)"
   ],
   "metadata": {
    "collapsed": false
   },
   "id": "ae3cfbada65f62a7"
  }
 ],
 "metadata": {
  "kernelspec": {
   "display_name": "Python 3 (ipykernel)",
   "language": "python",
   "name": "python3"
  },
  "language_info": {
   "codemirror_mode": {
    "name": "ipython",
    "version": 3
   },
   "file_extension": ".py",
   "mimetype": "text/x-python",
   "name": "python",
   "nbconvert_exporter": "python",
   "pygments_lexer": "ipython3",
   "version": "3.10.9"
  }
 },
 "nbformat": 4,
 "nbformat_minor": 5
}
