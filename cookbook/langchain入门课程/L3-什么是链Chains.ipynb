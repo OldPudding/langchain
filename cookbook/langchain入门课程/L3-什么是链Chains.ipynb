{
 "cells": [
  {
   "cell_type": "markdown",
   "id": "52824b89-532a-4e54-87e9-1410813cd39e",
   "metadata": {},
   "source": [
    "# Chains in LangChain\n",
    "\n",
    "## Outline\n",
    "\n",
    "* LLMChain\n",
    "* Sequential Chains\n",
    "  * SimpleSequentialChain\n",
    "  * SequentialChain\n",
    "* Router Chain"
   ]
  },
  {
   "cell_type": "markdown",
   "id": "b940ce7c",
   "metadata": {},
   "source": [
    "## LLMChain"
   ]
  },
  {
   "cell_type": "code",
   "execution_count": 84,
   "id": "e92dff22",
   "metadata": {
    "ExecuteTime": {
     "end_time": "2024-01-06T07:14:20.282309200Z",
     "start_time": "2024-01-06T07:14:20.272310400Z"
    }
   },
   "outputs": [],
   "source": [
    "from langchain.chat_models import ChatOpenAI\n",
    "from langchain.prompts import ChatPromptTemplate\n",
    "from langchain.chains import LLMChain"
   ]
  },
  {
   "cell_type": "code",
   "execution_count": 85,
   "id": "943237a7",
   "metadata": {
    "ExecuteTime": {
     "end_time": "2024-01-06T07:14:22.086988100Z",
     "start_time": "2024-01-06T07:14:22.072990900Z"
    }
   },
   "outputs": [],
   "source": [
    "from libs.community.langchain_community.llms.baidu_qianfan_endpoint import QianfanLLMEndpoint\n",
    "# llm = ChatOpenAI(temperature=0)\n",
    "llm = QianfanLLMEndpoint(temperature=0.1)"
   ]
  },
  {
   "cell_type": "code",
   "execution_count": 86,
   "id": "cdcdb42d",
   "metadata": {
    "ExecuteTime": {
     "end_time": "2024-01-06T07:14:23.982617400Z",
     "start_time": "2024-01-06T07:14:23.966509600Z"
    }
   },
   "outputs": [],
   "source": [
    "prompt = ChatPromptTemplate.from_template(\n",
    "    \"给卖 {product} 的商店取唯一一个最好听的名字\"\n",
    ")"
   ]
  },
  {
   "cell_type": "code",
   "execution_count": 87,
   "id": "d7abc20b",
   "metadata": {
    "ExecuteTime": {
     "end_time": "2024-01-06T07:14:25.922354800Z",
     "start_time": "2024-01-06T07:14:25.911354800Z"
    }
   },
   "outputs": [],
   "source": [
    "chain = LLMChain(llm=llm, prompt=prompt, verbose=True)"
   ]
  },
  {
   "cell_type": "code",
   "execution_count": 88,
   "id": "ad44d1fb",
   "metadata": {
    "ExecuteTime": {
     "end_time": "2024-01-06T07:14:30.303156300Z",
     "start_time": "2024-01-06T07:14:27.527347900Z"
    }
   },
   "outputs": [
    {
     "name": "stdout",
     "output_type": "stream",
     "text": [
      "\n",
      "\n",
      "\u001B[1m> Entering new LLMChain chain...\u001B[0m\n",
      "Prompt after formatting:\n",
      "\u001B[32;1m\u001B[1;3mHuman: 给卖 面包 的商店取唯一一个最好听的名字\u001B[0m\n",
      "\n",
      "\u001B[1m> Finished chain.\u001B[0m\n"
     ]
    },
    {
     "data": {
      "text/plain": "'给卖面包的商店取一个最好听的名字，可以考虑以下几个选项：\\n\\n1. 面包坊：这个名字给人一种专业、精致的感觉，适合一家注重品质和口感的面包店。\\n2. 面包乐园：这个名字给人一种愉悦、轻松的感觉，适合一家注重口感和氛围的面包店。\\n3. 面包之家：这个名字给人一种温馨、亲切的感觉，适合一家注重顾客体验和服务的面包店。\\n4. 面包星辰：这个名字给人一种高端、时尚的感觉，适合一家注重面包创新和品质的面包店。\\n\\n当然，具体的名字还需要根据商店的具体情况来决定，比如店铺的位置、风格、产品种类等等。同时，要注意避免使用过于复杂或生僻的名称，以免给顾客带来困扰。'"
     },
     "execution_count": 88,
     "metadata": {},
     "output_type": "execute_result"
    }
   ],
   "source": [
    "product = \"面包\"\n",
    "chain.run(product)"
   ]
  },
  {
   "cell_type": "markdown",
   "id": "69b03469",
   "metadata": {},
   "source": [
    "## SimpleSequentialChain"
   ]
  },
  {
   "cell_type": "code",
   "execution_count": 42,
   "id": "febee243",
   "metadata": {
    "ExecuteTime": {
     "end_time": "2024-01-06T06:51:10.251048800Z",
     "start_time": "2024-01-06T06:51:10.238052100Z"
    }
   },
   "outputs": [],
   "source": [
    "from langchain.chains import SimpleSequentialChain"
   ]
  },
  {
   "cell_type": "code",
   "execution_count": 89,
   "id": "2f31aa8a",
   "metadata": {
    "ExecuteTime": {
     "end_time": "2024-01-06T07:15:43.869564Z",
     "start_time": "2024-01-06T07:15:43.839446600Z"
    }
   },
   "outputs": [],
   "source": [
    "# prompt template 1\n",
    "first_prompt = ChatPromptTemplate.from_template(\n",
    "    \"给卖 {product} 的商店取唯一一个最好听的名字\"\n",
    ")\n",
    "\n",
    "# Chain 1\n",
    "chain_one = LLMChain(llm=llm, prompt=first_prompt)"
   ]
  },
  {
   "cell_type": "code",
   "execution_count": 90,
   "id": "3f5d5b76",
   "metadata": {
    "ExecuteTime": {
     "end_time": "2024-01-06T07:15:45.923969Z",
     "start_time": "2024-01-06T07:15:45.910969Z"
    }
   },
   "outputs": [],
   "source": [
    "# prompt template 2\n",
    "second_prompt = ChatPromptTemplate.from_template(\n",
    "    \"为以下商店写一段50字以内的描述:{store_name}\"\n",
    ")\n",
    "# chain 2\n",
    "chain_two = LLMChain(llm=llm, prompt=second_prompt)"
   ]
  },
  {
   "cell_type": "code",
   "execution_count": 98,
   "id": "6c1eb2c4",
   "metadata": {
    "ExecuteTime": {
     "end_time": "2024-01-06T07:17:41.213226100Z",
     "start_time": "2024-01-06T07:17:41.206227300Z"
    }
   },
   "outputs": [],
   "source": [
    "overall_simple_chain = SimpleSequentialChain(chains=[chain_one, chain_two],\n",
    "                                             verbose=True\n",
    "                                            )"
   ]
  },
  {
   "cell_type": "code",
   "execution_count": 99,
   "id": "78458efe",
   "metadata": {
    "ExecuteTime": {
     "end_time": "2024-01-06T07:17:49.095531300Z",
     "start_time": "2024-01-06T07:17:43.105096700Z"
    }
   },
   "outputs": [
    {
     "name": "stdout",
     "output_type": "stream",
     "text": [
      "\n",
      "\n",
      "\u001B[1m> Entering new SimpleSequentialChain chain...\u001B[0m\n",
      "\u001B[36;1m\u001B[1;3m给卖面包的商店取一个最好听的名字，可以考虑以下几个选项：\n",
      "\n",
      "1. 面包坊：这个名字给人一种专业、精致的感觉，适合一家注重品质和口感的面包店。\n",
      "2. 面包乐园：这个名字给人一种愉悦、轻松的感觉，适合一家注重口感和氛围的面包店。\n",
      "3. 面包之家：这个名字给人一种温馨、亲切的感觉，适合一家注重顾客体验和服务的面包店。\n",
      "4. 面包星辰：这个名字给人一种高端、时尚的感觉，适合一家注重面包创新和品质的面包店。\n",
      "5. 面包小铺：这个名字简单、亲切，适合一家小而美的面包店，给人一种温馨、舒适的感觉。\n",
      "\n",
      "当然，最终的名字还需要根据店铺的具体情况来决定，比如店铺的位置、风格、产品种类等。希望这些选项能够对您有所帮助！\u001B[0m\n",
      "\u001B[33;1m\u001B[1;3m以下是一些描述商店的文字：\n",
      "\n",
      "面包乐园：这里是一个面包的世界，每一款面包都散发着诱人的香气，让人忍不住想品尝。这里不仅有各种口味的面包，还有温馨的环境和贴心的服务，让每一位顾客都能感受到家的温暖。\n",
      "\n",
      "面包之家：这家店就像一个温馨的家一样，每一个角落都充满了面包的香气和温馨的气氛。店主用心制作每一款面包，注重顾客的体验和服务，让每一位顾客都能感受到家的温暖和关怀。\n",
      "\n",
      "面包小铺：这家小店虽然不大，但却充满了温馨和舒适的感觉。店主用心制作每一款面包，注重口感和品质，让顾客品尝到最地道的面包味道。这里不仅有各种口味的面包，还有各种小食和饮料，让顾客在这里度过一个愉快的时光。\n",
      "\n",
      "以上文字仅供参考，您可以根据实际情况进行修改和调整。最终选择一个最适合您的商店的名字！\u001B[0m\n",
      "\n",
      "\u001B[1m> Finished chain.\u001B[0m\n"
     ]
    },
    {
     "data": {
      "text/plain": "'以下是一些描述商店的文字：\\n\\n面包乐园：这里是一个面包的世界，每一款面包都散发着诱人的香气，让人忍不住想品尝。这里不仅有各种口味的面包，还有温馨的环境和贴心的服务，让每一位顾客都能感受到家的温暖。\\n\\n面包之家：这家店就像一个温馨的家一样，每一个角落都充满了面包的香气和温馨的气氛。店主用心制作每一款面包，注重顾客的体验和服务，让每一位顾客都能感受到家的温暖和关怀。\\n\\n面包小铺：这家小店虽然不大，但却充满了温馨和舒适的感觉。店主用心制作每一款面包，注重口感和品质，让顾客品尝到最地道的面包味道。这里不仅有各种口味的面包，还有各种小食和饮料，让顾客在这里度过一个愉快的时光。\\n\\n以上文字仅供参考，您可以根据实际情况进行修改和调整。最终选择一个最适合您的商店的名字！'"
     },
     "execution_count": 99,
     "metadata": {},
     "output_type": "execute_result"
    }
   ],
   "source": [
    "overall_simple_chain.run(product)"
   ]
  },
  {
   "cell_type": "markdown",
   "id": "7b5ce18c",
   "metadata": {},
   "source": [
    "## SequentialChain"
   ]
  },
  {
   "cell_type": "code",
   "execution_count": 62,
   "id": "4c129ef6",
   "metadata": {
    "ExecuteTime": {
     "end_time": "2024-01-06T06:57:45.156655100Z",
     "start_time": "2024-01-06T06:57:45.142658Z"
    }
   },
   "outputs": [],
   "source": [
    "from langchain.chains import SequentialChain"
   ]
  },
  {
   "cell_type": "code",
   "execution_count": 101,
   "id": "016187ac",
   "metadata": {
    "ExecuteTime": {
     "end_time": "2024-01-06T07:20:17.211720400Z",
     "start_time": "2024-01-06T07:20:17.199721400Z"
    }
   },
   "outputs": [],
   "source": [
    "first_prompt = ChatPromptTemplate.from_template(\n",
    "    \"将以下评论翻译成中文:\"\n",
    "    \"\\n\\n{Review}\"\n",
    ")\n",
    "chain_one = LLMChain(llm=llm, prompt=first_prompt, \n",
    "                     output_key=\"Chinese_Review\"\n",
    "                    )"
   ]
  },
  {
   "cell_type": "code",
   "execution_count": 102,
   "id": "0fb0730e",
   "metadata": {
    "ExecuteTime": {
     "end_time": "2024-01-06T07:20:19.355499400Z",
     "start_time": "2024-01-06T07:20:19.344397400Z"
    }
   },
   "outputs": [],
   "source": [
    "second_prompt = ChatPromptTemplate.from_template(\n",
    "    \"用一句话总结以下评论:\"\n",
    "    \"\\n\\n{Chinese_Review}\"\n",
    ")\n",
    "chain_two = LLMChain(llm=llm, prompt=second_prompt, \n",
    "                     output_key=\"summary\"\n",
    "                    )"
   ]
  },
  {
   "cell_type": "code",
   "execution_count": 120,
   "id": "6accf92d",
   "metadata": {
    "ExecuteTime": {
     "end_time": "2024-01-06T07:26:19.432578Z",
     "start_time": "2024-01-06T07:26:19.414550600Z"
    }
   },
   "outputs": [],
   "source": [
    "third_prompt = ChatPromptTemplate.from_template(\n",
    "    \"这段评论采用了哪种语言（比如英语、中文、日语等）:\\n\\n{Review}\"\n",
    ")\n",
    "chain_three = LLMChain(llm=llm, prompt=third_prompt,\n",
    "                       output_key=\"language\"\n",
    "                      )"
   ]
  },
  {
   "cell_type": "code",
   "execution_count": 121,
   "id": "c7a46121",
   "metadata": {
    "ExecuteTime": {
     "end_time": "2024-01-06T07:26:21.864269200Z",
     "start_time": "2024-01-06T07:26:21.861268400Z"
    }
   },
   "outputs": [],
   "source": [
    "fourth_prompt = ChatPromptTemplate.from_template(\n",
    "    \"用 {language} 对以下总结写一句回复:\"\n",
    "    \"\\n\\nSummary: {summary}\"\n",
    ")\n",
    "chain_four = LLMChain(llm=llm, prompt=fourth_prompt,\n",
    "                      output_key=\"reply\",verbose=True\n",
    "                     )"
   ]
  },
  {
   "cell_type": "code",
   "execution_count": 122,
   "id": "89603117",
   "metadata": {
    "ExecuteTime": {
     "end_time": "2024-01-06T07:26:24.106008100Z",
     "start_time": "2024-01-06T07:26:24.095977Z"
    }
   },
   "outputs": [],
   "source": [
    "overall_chain = SequentialChain(\n",
    "    chains=[chain_one, chain_two, chain_three, chain_four],\n",
    "    input_variables=[\"Review\"],\n",
    "    output_variables=[\"Chinese_Review\", \"summary\",\"reply\",\"language\"],\n",
    ")"
   ]
  },
  {
   "cell_type": "code",
   "execution_count": 123,
   "id": "51b04f45",
   "metadata": {
    "ExecuteTime": {
     "end_time": "2024-01-06T07:26:31.251988200Z",
     "start_time": "2024-01-06T07:26:26.222454600Z"
    }
   },
   "outputs": [
    {
     "name": "stdout",
     "output_type": "stream",
     "text": [
      "\n",
      "\n",
      "\u001B[1m> Entering new LLMChain chain...\u001B[0m\n",
      "Prompt after formatting:\n",
      "\u001B[32;1m\u001B[1;3mHuman: 用 这段评论是中文。 对以下总结写一句回复:\n",
      "\n",
      "Summary: 这个评论赞扬了某款靠垫填充物的质量，与其他同类产品相比，它更优秀，因为拍打后仍然蓬松。\u001B[0m\n",
      "\n",
      "\u001B[1m> Finished chain.\u001B[0m\n"
     ]
    },
    {
     "data": {
      "text/plain": "{'Review': 'This is the best throw pillow fillers on Amazon. I’ve tried several others, and they’re all cheap and flat no matter how much fluffing you do. Once you toss these in the dryer after you remove them from the vacuum sealed shipping material, they fluff up great',\n 'Chinese_Review': '这是亚马逊上最好的靠垫填充物。我已经尝试过其他几个，无论你如何拍打它们，它们都是便宜而扁平的。一旦你从真空密封的运输材料中取出这些并将其扔进烘干机中，它们就会变得蓬松。中文翻译如下：这是最好的靠垫填充物，我在亚马逊上试过其他几个，无论你怎么拍打它们，它们都是便宜而扁平的。但是这些填充物在从真空密封的包装中取出后，扔进烘干机中烘干后就会变得蓬松起来。',\n 'summary': '这个评论赞扬了某款靠垫填充物的质量，与其他同类产品相比，它更优秀，因为拍打后仍然蓬松。',\n 'reply': '谢谢您的反馈，我们会继续努力提供优质的产品和服务。我们会关注这款靠垫填充物的质量，并努力改进以提供更好的用户体验。',\n 'language': '这段评论是中文。'}"
     },
     "execution_count": 123,
     "metadata": {},
     "output_type": "execute_result"
    }
   ],
   "source": [
    "review = \"This is the best throw pillow fillers on Amazon. I’ve tried several others, and they’re all cheap and flat no matter how much fluffing you do. Once you toss these in the dryer after you remove them from the vacuum sealed shipping material, they fluff up great\"\n",
    "overall_chain(review)"
   ]
  },
  {
   "cell_type": "markdown",
   "id": "3041ea4c",
   "metadata": {},
   "source": [
    "## Router Chain"
   ]
  },
  {
   "cell_type": "code",
   "execution_count": 137,
   "id": "ade83f4f",
   "metadata": {
    "ExecuteTime": {
     "end_time": "2024-01-06T08:20:31.130090800Z",
     "start_time": "2024-01-06T08:20:31.119055900Z"
    }
   },
   "outputs": [],
   "source": [
    "physics_template = \"\"\"你是一个令人叹为观止的物理老师，回答言简意赅。请回答以下问题:\n",
    "{input}\"\"\"\n",
    "\n",
    "math_template = \"\"\"你是一个出类拔萃的数学老师，回答简洁明了。请回答以下问题:\n",
    "{input}\"\"\"\n",
    "\n",
    "parent_template = \"\"\" 你是一个无比耐心和明智的家长，请用温柔的语调，回答孩子的提问:\n",
    "{input}\"\"\""
   ]
  },
  {
   "cell_type": "code",
   "execution_count": 150,
   "id": "5f590e9f",
   "metadata": {
    "ExecuteTime": {
     "end_time": "2024-01-06T08:34:58.677472900Z",
     "start_time": "2024-01-06T08:34:58.663471900Z"
    }
   },
   "outputs": [
    {
     "data": {
      "text/plain": "'physics: 擅长回答物理问题\\nmath: 擅长回答数学问题\\nparent: 擅长回答小孩提出的任何问题'"
     },
     "execution_count": 150,
     "metadata": {},
     "output_type": "execute_result"
    }
   ],
   "source": [
    "prompt_infos = [\n",
    "    {\n",
    "        \"name\": \"physics\", \n",
    "        \"description\": \"擅长回答物理问题\", \n",
    "        \"prompt_template\": physics_template\n",
    "    },\n",
    "    {\n",
    "        \"name\": \"math\", \n",
    "        \"description\": \"擅长回答数学问题\", \n",
    "        \"prompt_template\": math_template\n",
    "    },\n",
    "    {\n",
    "        \"name\": \"parent\", \n",
    "        \"description\": \"擅长回答小孩提出的任何问题\", \n",
    "        \"prompt_template\": parent_template\n",
    "    }\n",
    "]\n",
    "\n",
    "destinations = [f\"{p['name']}: {p['description']}\" for p in prompt_infos]\n",
    "destinations_str = \"\\n\".join(destinations)\n",
    "destinations_str"
   ]
  },
  {
   "cell_type": "code",
   "execution_count": 151,
   "id": "8eefec24",
   "metadata": {
    "ExecuteTime": {
     "end_time": "2024-01-06T08:35:00.815341200Z",
     "start_time": "2024-01-06T08:35:00.784208100Z"
    }
   },
   "outputs": [
    {
     "data": {
      "text/plain": "{'physics': LLMChain(prompt=ChatPromptTemplate(input_variables=['input'], messages=[HumanMessagePromptTemplate(prompt=PromptTemplate(input_variables=['input'], template='你是一个令人叹为观止的物理老师，回答言简意赅。请回答以下问题:\\n{input}'))]), llm=QianfanLLMEndpoint(client=<qianfan.resources.llm.completion.Completion object at 0x0000021886A185B0>, qianfan_ak=SecretStr('**********'), qianfan_sk=SecretStr('**********'), temperature=0.1)),\n 'math': LLMChain(prompt=ChatPromptTemplate(input_variables=['input'], messages=[HumanMessagePromptTemplate(prompt=PromptTemplate(input_variables=['input'], template='你是一个出类拔萃的数学老师，回答简洁明了。请回答以下问题:\\n{input}'))]), llm=QianfanLLMEndpoint(client=<qianfan.resources.llm.completion.Completion object at 0x0000021886A185B0>, qianfan_ak=SecretStr('**********'), qianfan_sk=SecretStr('**********'), temperature=0.1)),\n 'parent': LLMChain(prompt=ChatPromptTemplate(input_variables=['input'], messages=[HumanMessagePromptTemplate(prompt=PromptTemplate(input_variables=['input'], template=' 你是一个无比耐心和明智的家长，请用温柔的语调，回答孩子的提问:\\n{input}'))]), llm=QianfanLLMEndpoint(client=<qianfan.resources.llm.completion.Completion object at 0x0000021886A185B0>, qianfan_ak=SecretStr('**********'), qianfan_sk=SecretStr('**********'), temperature=0.1))}"
     },
     "execution_count": 151,
     "metadata": {},
     "output_type": "execute_result"
    }
   ],
   "source": [
    "destination_chains = {}\n",
    "for p_info in prompt_infos:\n",
    "    name = p_info[\"name\"]\n",
    "    prompt_template = p_info[\"prompt_template\"]\n",
    "    prompt = ChatPromptTemplate.from_template(template=prompt_template)\n",
    "    chain = LLMChain(llm=llm, prompt=prompt)\n",
    "    destination_chains[name] = chain  \n",
    "destination_chains"
   ]
  },
  {
   "cell_type": "code",
   "execution_count": 152,
   "id": "9f98018a",
   "metadata": {
    "ExecuteTime": {
     "end_time": "2024-01-06T08:35:03.181695400Z",
     "start_time": "2024-01-06T08:35:03.168648900Z"
    }
   },
   "outputs": [
    {
     "data": {
      "text/plain": "LLMChain(prompt=ChatPromptTemplate(input_variables=['input'], messages=[HumanMessagePromptTemplate(prompt=PromptTemplate(input_variables=['input'], template='{input}'))]), llm=QianfanLLMEndpoint(client=<qianfan.resources.llm.completion.Completion object at 0x0000021886A185B0>, qianfan_ak=SecretStr('**********'), qianfan_sk=SecretStr('**********'), temperature=0.1))"
     },
     "execution_count": 152,
     "metadata": {},
     "output_type": "execute_result"
    }
   ],
   "source": [
    "default_prompt = ChatPromptTemplate.from_template(\"{input}\")\n",
    "default_chain = LLMChain(llm=llm, prompt=default_prompt)\n",
    "default_chain"
   ]
  },
  {
   "cell_type": "code",
   "execution_count": 153,
   "id": "11b2e2ba",
   "metadata": {
    "ExecuteTime": {
     "end_time": "2024-01-06T08:35:05.316402Z",
     "start_time": "2024-01-06T08:35:05.304375600Z"
    }
   },
   "outputs": [
    {
     "data": {
      "text/plain": "'Given a raw text input to a language model select the model prompt best suited for the input. You will be given the names of the available prompts and a description of what the prompt is best suited for. You may also revise the original input if you think that revising it will ultimately lead to a better response from the language model.\\n\\n<< FORMATTING >>\\nReturn a markdown code snippet with a JSON object formatted to look like:\\n```json\\n{{{{\\n    \"destination\": string \\\\ name of the prompt to use or \"DEFAULT\"\\n    \"next_inputs\": string \\\\ a potentially modified version of the original input\\n}}}}\\n```\\n\\nREMEMBER: \"destination\" MUST be one of the candidate prompt names specified below OR it can be \"DEFAULT\" if the input is not well suited for any of the candidate prompts.\\nREMEMBER: \"next_inputs\" can just be the original input if you don\\'t think any modifications are needed.\\n\\n<< CANDIDATE PROMPTS >>\\n{destinations}\\n\\n<< INPUT >>\\n{{input}}\\n\\n<< OUTPUT (must include ```json at the start of the response) >>\\n<< OUTPUT (must end with ```) >>\\n'"
     },
     "execution_count": 153,
     "metadata": {},
     "output_type": "execute_result"
    }
   ],
   "source": [
    "from langchain.chains.router import MultiPromptChain\n",
    "from langchain.chains.router.llm_router import LLMRouterChain,RouterOutputParser\n",
    "from langchain.prompts import PromptTemplate\n",
    "from langchain.chains.router.multi_prompt_prompt import MULTI_PROMPT_ROUTER_TEMPLATE\n",
    "\n",
    "MULTI_PROMPT_ROUTER_TEMPLATE"
   ]
  },
  {
   "cell_type": "code",
   "execution_count": 154,
   "id": "1387109d",
   "metadata": {
    "ExecuteTime": {
     "end_time": "2024-01-06T08:35:07.698825800Z",
     "start_time": "2024-01-06T08:35:07.688816300Z"
    }
   },
   "outputs": [],
   "source": [
    "router_template = MULTI_PROMPT_ROUTER_TEMPLATE.format(\n",
    "    destinations=destinations_str\n",
    ")\n",
    "router_prompt = PromptTemplate(\n",
    "    template=router_template,\n",
    "    input_variables=[\"input\"],\n",
    "    output_parser=RouterOutputParser(),\n",
    ")\n",
    "\n",
    "router_chain = LLMRouterChain.from_llm(llm, router_prompt)"
   ]
  },
  {
   "cell_type": "code",
   "execution_count": 155,
   "id": "2fb7d560",
   "metadata": {
    "ExecuteTime": {
     "end_time": "2024-01-06T08:35:09.782780100Z",
     "start_time": "2024-01-06T08:35:09.757731200Z"
    }
   },
   "outputs": [],
   "source": [
    "chain = MultiPromptChain(router_chain=router_chain, \n",
    "                         destination_chains=destination_chains, \n",
    "                         default_chain=default_chain, verbose=True\n",
    "                        )"
   ]
  },
  {
   "cell_type": "code",
   "execution_count": 159,
   "id": "3b717379",
   "metadata": {
    "ExecuteTime": {
     "end_time": "2024-01-06T08:36:13.092434900Z",
     "start_time": "2024-01-06T08:36:10.966903300Z"
    }
   },
   "outputs": [
    {
     "name": "stdout",
     "output_type": "stream",
     "text": [
      "\n",
      "\n",
      "\u001B[1m> Entering new MultiPromptChain chain...\u001B[0m\n"
     ]
    },
    {
     "name": "stderr",
     "output_type": "stream",
     "text": [
      "D:\\PythonProject\\langchain\\libs\\langchain\\langchain\\chains\\llm.py:316: UserWarning: The predict_and_parse method is deprecated, instead pass an output parser directly to LLMChain.\n",
      "  warnings.warn(\n"
     ]
    },
    {
     "name": "stdout",
     "output_type": "stream",
     "text": [
      "physics: {'input': '什么是黑洞？黑洞是一种密度极高的天体，它是由宇宙中的物质聚集形成的。'}\n",
      "\u001B[1m> Finished chain.\u001B[0m\n"
     ]
    },
    {
     "data": {
      "text/plain": "'好的，黑洞是一种密度极高的天体，是由宇宙中的物质聚集形成的。请问还有其他问题吗？'"
     },
     "execution_count": 159,
     "metadata": {},
     "output_type": "execute_result"
    }
   ],
   "source": [
    "chain.run(\"什么是黑洞\")"
   ]
  },
  {
   "cell_type": "code",
   "execution_count": 158,
   "id": "29e5be01",
   "metadata": {
    "ExecuteTime": {
     "end_time": "2024-01-06T08:35:49.575715700Z",
     "start_time": "2024-01-06T08:35:41.466651300Z"
    }
   },
   "outputs": [
    {
     "name": "stdout",
     "output_type": "stream",
     "text": [
      "\n",
      "\n",
      "\u001B[1m> Entering new MultiPromptChain chain...\u001B[0m\n"
     ]
    },
    {
     "name": "stderr",
     "output_type": "stream",
     "text": [
      "D:\\PythonProject\\langchain\\libs\\langchain\\langchain\\chains\\llm.py:316: UserWarning: The predict_and_parse method is deprecated, instead pass an output parser directly to LLMChain.\n",
      "  warnings.warn(\n"
     ]
    },
    {
     "name": "stdout",
     "output_type": "stream",
     "text": [
      "parent: {'input': '为什么我们的身体每个细胞里都有DNA？'}\n",
      "\u001B[1m> Finished chain.\u001B[0m\n"
     ]
    },
    {
     "data": {
      "text/plain": "'亲爱的小朋友，你真是一个好奇的孩子。现在，让我们一起来探索这个有趣的问题。\\n\\n首先，你知道吗，我们的身体是由数以亿计的细胞组成的。这些细胞中，有一种叫做“体细胞”的细胞，它们会一直陪伴我们成长，直到我们生命的结束。而这种体细胞里就包含了我们的DNA。\\n\\nDNA是什么呢？它就像我们身体的蓝图，里面包含了我们的遗传信息。这些信息决定了我们身体的各种特征，包括我们的眼睛颜色、头发颜色、身高、体重，甚至我们的性格和行为习惯。\\n\\n每个细胞里的DNA就像一本书，每一页都包含了不同的信息。当我们需要制造新的细胞时，DNA就会按照这些信息来制造特定的蛋白质，这些蛋白质会帮助细胞生长和分裂。\\n\\n所以，小朋友，你看，我们的身体之所以每个细胞里都有DNA，是因为它就像一个神奇的密码本，里面记录了我们的遗传信息，帮助我们的身体正常运作。\\n\\n希望这个回答能解答你的疑惑。如果你还有其他问题，随时告诉我哦！'"
     },
     "execution_count": 158,
     "metadata": {},
     "output_type": "execute_result"
    }
   ],
   "source": [
    "chain.run(\"Why does every cell in our body contain DNA?\")"
   ]
  }
 ],
 "metadata": {
  "kernelspec": {
   "display_name": "Python 3 (ipykernel)",
   "language": "python",
   "name": "python3"
  },
  "language_info": {
   "codemirror_mode": {
    "name": "ipython",
    "version": 3
   },
   "file_extension": ".py",
   "mimetype": "text/x-python",
   "name": "python",
   "nbconvert_exporter": "python",
   "pygments_lexer": "ipython3",
   "version": "3.10.9"
  }
 },
 "nbformat": 4,
 "nbformat_minor": 5
}
